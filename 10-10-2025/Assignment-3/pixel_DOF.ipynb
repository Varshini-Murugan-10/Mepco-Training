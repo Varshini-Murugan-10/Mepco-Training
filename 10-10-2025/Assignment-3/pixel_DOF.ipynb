{
  "nbformat": 4,
  "nbformat_minor": 0,
  "metadata": {
    "colab": {
      "provenance": []
    },
    "kernelspec": {
      "name": "python3",
      "display_name": "Python 3"
    },
    "language_info": {
      "name": "python"
    }
  },
  "cells": [
    {
      "cell_type": "code",
      "execution_count": 4,
      "metadata": {
        "colab": {
          "base_uri": "https://localhost:8080/"
        },
        "id": "LMDWdh2vr6_I",
        "outputId": "ba371779-766d-4595-a2a5-9e6644a53961"
      },
      "outputs": [
        {
          "output_type": "stream",
          "name": "stdout",
          "text": [
            "Pixel resolution: 0.2500 mm/pixel\n",
            "Near DOF limit: 1684.64 mm\n",
            "Far DOF limit: 2460.63 mm\n",
            "Total DOF: 775.99 mm\n"
          ]
        }
      ],
      "source": [
        "def compute_dof(focal_length, f_number, subject_distance, coc):\n",
        "    H = (focal_length ** 2) / (f_number * coc) + focal_length\n",
        "    dof_near = (subject_distance * (H - focal_length)) / (H + subject_distance - 2 * focal_length)\n",
        "    dof_far = (subject_distance * (H - focal_length)) / (H - subject_distance)\n",
        "    return dof_near, dof_far\n",
        "\n",
        "def estimate_pixel_resolution(real_width, pixel_width):\n",
        "    return real_width / pixel_width\n",
        "\n",
        "\n",
        "real_width = 50\n",
        "pixel_width = 200\n",
        "focal_length = 50\n",
        "f_number = 8\n",
        "subject_distance = 2000\n",
        "coc = 0.03\n",
        "\n",
        "pixel_resolution = estimate_pixel_resolution(real_width, pixel_width)\n",
        "print(f\"Pixel resolution: {pixel_resolution:.4f} mm/pixel\")\n",
        "\n",
        "dof_near, dof_far = compute_dof(focal_length, f_number, subject_distance, coc)\n",
        "print(f\"Near DOF limit: {dof_near:.2f} mm\")\n",
        "print(f\"Far DOF limit: {dof_far:.2f} mm\")\n",
        "print(f\"Total DOF: {dof_far - dof_near:.2f} mm\")"
      ]
    }
  ]
}