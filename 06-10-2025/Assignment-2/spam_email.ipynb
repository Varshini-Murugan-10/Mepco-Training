{
  "cells": [
    {
      "cell_type": "code",
      "execution_count": null,
      "metadata": {
        "colab": {
          "base_uri": "https://localhost:8080/"
        },
        "id": "izuKtVXtpp9g",
        "outputId": "4e4960dd-e6de-4980-b2c5-fff35c79dd2e"
      },
      "outputs": [
        {
          "name": "stdout",
          "output_type": "stream",
          "text": [
            "\n",
            "Shape of X (features): (5346, 3000)\n",
            "Shape of y (target): (5345,)\n",
            "Data type of y (target): int64\n",
            "Dropped 1 rows due to missing values.\n",
            "\n",
            "Model Accuracy: 0.9401\n",
            "\n",
            "Classification Report:\n",
            "              precision    recall  f1-score   support\n",
            "\n",
            "         0.0       0.98      0.94      0.96       761\n",
            "         1.0       0.86      0.94      0.90       308\n",
            "\n",
            "    accuracy                           0.94      1069\n",
            "   macro avg       0.92      0.94      0.93      1069\n",
            "weighted avg       0.94      0.94      0.94      1069\n",
            "\n"
          ]
        }
      ],
      "source": [
        "import pandas as pd\n",
        "from sklearn.model_selection import train_test_split\n",
        "from sklearn.naive_bayes import MultinomialNB\n",
        "from sklearn.metrics import accuracy_score, classification_report\n",
        "\n",
        "df = pd.read_csv(\"/content/emails.csv\")\n",
        "\n",
        "X = df.iloc[:, 1:-1] \n",
        "y = df.iloc[:, -1]  \n",
        "if y.dtype == 'object':\n",
        "    print(\"Converting target column from object to int...\")\n",
        "    y = y.apply(lambda x: 1 if x == 'spam' else 0)\n",
        "\n",
        "y = y.dropna()\n",
        "\n",
        "y = y.astype(int)\n",
        "\n",
        "\n",
        "print(f\"\\nShape of X (features): {X.shape}\")\n",
        "print(f\"Shape of y (target): {y.shape}\")\n",
        "print(f\"Data type of y (target): {y.dtype}\")\n",
        "\n",
        "combined_df = pd.concat([X, y], axis=1)\n",
        "initial_rows = combined_df.shape[0]\n",
        "combined_df = combined_df.dropna()\n",
        "rows_after_dropna = combined_df.shape[0]\n",
        "\n",
        "if initial_rows != rows_after_dropna:\n",
        "    print(f\"Dropped {initial_rows - rows_after_dropna} rows due to missing values.\")\n",
        "\n",
        "X = combined_df.iloc[:, :-1]\n",
        "y = combined_df.iloc[:, -1]\n",
        "\n",
        "X_train, X_test, y_train, y_test = train_test_split(X, y, test_size=0.2, random_state=42)\n",
        "\n",
        "classifier = MultinomialNB()\n",
        "classifier.fit(X_train, y_train) \n",
        "\n",
        "y_pred = classifier.predict(X_test)\n",
        "\n",
        "accuracy = accuracy_score(y_test, y_pred)\n",
        "report = classification_report(y_test, y_pred)\n",
        "\n",
        "print(f\"\\nModel Accuracy: {accuracy:.4f}\")\n",
        "print(\"\\nClassification Report:\")\n",
        "print(report)\n"
      ]
    }
  ],
  "metadata": {
    "colab": {
      "provenance": []
    },
    "kernelspec": {
      "display_name": "Python 3",
      "name": "python3"
    },
    "language_info": {
      "name": "python"
    }
  },
  "nbformat": 4,
  "nbformat_minor": 0
}
