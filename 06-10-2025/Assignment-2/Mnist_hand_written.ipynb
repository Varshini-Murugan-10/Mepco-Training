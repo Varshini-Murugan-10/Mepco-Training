{
  "nbformat": 4,
  "nbformat_minor": 0,
  "metadata": {
    "colab": {
      "provenance": []
    },
    "kernelspec": {
      "name": "python3",
      "display_name": "Python 3"
    },
    "language_info": {
      "name": "python"
    }
  },
  "cells": [
    {
      "cell_type": "code",
      "execution_count": 1,
      "metadata": {
        "colab": {
          "base_uri": "https://localhost:8080/"
        },
        "id": "KEdPe9wqkaIQ",
        "outputId": "08fac767-9e51-493a-9c62-6a2cd43e64ae"
      },
      "outputs": [
        {
          "output_type": "stream",
          "name": "stdout",
          "text": [
            "Downloading data from https://storage.googleapis.com/tensorflow/tf-keras-datasets/mnist.npz\n",
            "\u001b[1m11490434/11490434\u001b[0m \u001b[32m━━━━━━━━━━━━━━━━━━━━\u001b[0m\u001b[37m\u001b[0m \u001b[1m1s\u001b[0m 0us/step\n",
            "Training set size: 56000 images\n",
            "Test set size: 14000 images\n",
            "Random Forest Accuracy: 96.75%\n"
          ]
        }
      ],
      "source": [
        "import numpy as np\n",
        "from tensorflow.keras.datasets import mnist\n",
        "from sklearn.model_selection import train_test_split\n",
        "from sklearn.ensemble import RandomForestClassifier\n",
        "from sklearn.metrics import accuracy_score\n",
        "(X_train_full, y_train_full), (X_test, y_test) = mnist.load_data()\n",
        "\n",
        "X = np.concatenate([X_train_full, X_test])\n",
        "y = np.concatenate([y_train_full, y_test])\n",
        "\n",
        "X = X.reshape((X.shape[0], -1))\n",
        "\n",
        "X = X / 255.0\n",
        "\n",
        "X_train, X_test, y_train, y_test = train_test_split(X, y, test_size=0.2, random_state=42)\n",
        "\n",
        "print(f\"Training set size: {X_train.shape[0]} images\")\n",
        "print(f\"Test set size: {X_test.shape[0]} images\")\n",
        "\n",
        "forest_clf = RandomForestClassifier(n_estimators=100, random_state=42)\n",
        "forest_clf.fit(X_train, y_train)\n",
        "\n",
        "y_pred_forest = forest_clf.predict(X_test)\n",
        "accuracy_forest = accuracy_score(y_test, y_pred_forest)\n",
        "print(f\"Random Forest Accuracy: {accuracy_forest * 100:.2f}%\")\n"
      ]
    },
    {
      "cell_type": "code",
      "source": [
        " from sklearn.metrics import confusion_matrix, classification_report\n",
        " con_mat = confusion_matrix(y_test, y_pred_forest)\n",
        " print(con_mat)\n",
        " print(classification_report(y_test, y_pred_forest))"
      ],
      "metadata": {
        "colab": {
          "base_uri": "https://localhost:8080/"
        },
        "id": "3kOMCJvplBVL",
        "outputId": "6aa652a6-b1c9-42b5-93a2-bf63ed815679"
      },
      "execution_count": 2,
      "outputs": [
        {
          "output_type": "stream",
          "name": "stdout",
          "text": [
            "[[1325    0    4    0    1    1    3    1    6    2]\n",
            " [   0 1573    6    8    2    0    0    6    3    2]\n",
            " [   3    5 1335    4    5    1    9    8    8    2]\n",
            " [   1    0   23 1366    0    9    0   14   12    8]\n",
            " [   4    1    3    0 1256    0    2    3    3   23]\n",
            " [   1    3    3   17    4 1226    8    1    8    2]\n",
            " [   4    1    0    0    6   10 1372    0    3    0]\n",
            " [   3    5   15    0    7    1    0 1455    2   15]\n",
            " [   1    6    8   15    5   10    5    7 1293    7]\n",
            " [   4    6    5   16   20    5    1   10    9 1344]]\n",
            "              precision    recall  f1-score   support\n",
            "\n",
            "           0       0.98      0.99      0.99      1343\n",
            "           1       0.98      0.98      0.98      1600\n",
            "           2       0.95      0.97      0.96      1380\n",
            "           3       0.96      0.95      0.96      1433\n",
            "           4       0.96      0.97      0.97      1295\n",
            "           5       0.97      0.96      0.97      1273\n",
            "           6       0.98      0.98      0.98      1396\n",
            "           7       0.97      0.97      0.97      1503\n",
            "           8       0.96      0.95      0.96      1357\n",
            "           9       0.96      0.95      0.95      1420\n",
            "\n",
            "    accuracy                           0.97     14000\n",
            "   macro avg       0.97      0.97      0.97     14000\n",
            "weighted avg       0.97      0.97      0.97     14000\n",
            "\n"
          ]
        }
      ]
    }
  ]
}